{
  "nbformat": 4,
  "nbformat_minor": 0,
  "metadata": {
    "colab": {
      "name": " Python Programming For Beginners.ipynb",
      "provenance": [],
      "collapsed_sections": []
    },
    "kernelspec": {
      "name": "python3",
      "display_name": "Python 3"
    },
    "language_info": {
      "name": "python"
    }
  },
  "cells": [
    {
      "cell_type": "markdown",
      "source": [
        "# **Python Programming For Beginners**"
      ],
      "metadata": {
        "id": "2-REso4NrcVN"
      }
    },
    {
      "cell_type": "markdown",
      "source": [
        "#### **Hello World**"
      ],
      "metadata": {
        "id": "Zji1Ekv9Mzyx"
      }
    },
    {
      "cell_type": "code",
      "source": [
        "print(\"Hello World\")"
      ],
      "metadata": {
        "colab": {
          "base_uri": "https://localhost:8080/"
        },
        "id": "e7K19qGuM-QV",
        "outputId": "55137b5c-8dd1-4e92-a592-95415b6bbf09"
      },
      "execution_count": null,
      "outputs": [
        {
          "output_type": "stream",
          "name": "stdout",
          "text": [
            "Hello World\n"
          ]
        }
      ]
    },
    {
      "cell_type": "code",
      "source": [
        "print('Hello World.\\nI love Python')"
      ],
      "metadata": {
        "colab": {
          "base_uri": "https://localhost:8080/"
        },
        "id": "nc99kDgINZQd",
        "outputId": "20ada86c-1415-4725-86a7-9bdad296226c"
      },
      "execution_count": null,
      "outputs": [
        {
          "output_type": "stream",
          "name": "stdout",
          "text": [
            "Hello World.\n",
            "I love Python\n"
          ]
        }
      ]
    },
    {
      "cell_type": "markdown",
      "source": [
        "#### **Variables in Python**"
      ],
      "metadata": {
        "id": "2QaO9lqHN3W1"
      }
    },
    {
      "cell_type": "code",
      "source": [
        "name = 'Boom'\n",
        "age = 18\n",
        "print('His name is',name)\n",
        "print('He is',age,'years old.')"
      ],
      "metadata": {
        "colab": {
          "base_uri": "https://localhost:8080/"
        },
        "id": "qVu4i7dON8UN",
        "outputId": "062fc2c1-e61a-4f32-dd88-fc263a584346"
      },
      "execution_count": null,
      "outputs": [
        {
          "output_type": "stream",
          "name": "stdout",
          "text": [
            "His name is Boom\n",
            "He is 18 years old.\n"
          ]
        }
      ]
    },
    {
      "cell_type": "markdown",
      "source": [
        "#### **Strings in Python**"
      ],
      "metadata": {
        "id": "5d0dfwEgU1xS"
      }
    },
    {
      "cell_type": "code",
      "source": [
        "name = 'Boom'\n",
        "print(name[0])"
      ],
      "metadata": {
        "colab": {
          "base_uri": "https://localhost:8080/"
        },
        "id": "2HsRMWSvU6z3",
        "outputId": "e7e3d195-b76e-4945-ca3c-8ead3b96ba10"
      },
      "execution_count": null,
      "outputs": [
        {
          "output_type": "stream",
          "name": "stdout",
          "text": [
            "B\n"
          ]
        }
      ]
    },
    {
      "cell_type": "code",
      "source": [
        "name = 'Boom'\n",
        "print(len(name))"
      ],
      "metadata": {
        "colab": {
          "base_uri": "https://localhost:8080/"
        },
        "id": "ZQNkcL4hWTqQ",
        "outputId": "4bb3a930-b5f8-42a1-fc6a-d0de3d89c9f8"
      },
      "execution_count": null,
      "outputs": [
        {
          "output_type": "stream",
          "name": "stdout",
          "text": [
            "4\n"
          ]
        }
      ]
    },
    {
      "cell_type": "code",
      "source": [
        "name = 'Boom'\n",
        "print(name.index('m'))"
      ],
      "metadata": {
        "colab": {
          "base_uri": "https://localhost:8080/"
        },
        "id": "WHqThsg-WYt6",
        "outputId": "1a4a9a8f-a9f8-4fb6-b23c-14550181f96d"
      },
      "execution_count": null,
      "outputs": [
        {
          "output_type": "stream",
          "name": "stdout",
          "text": [
            "3\n"
          ]
        }
      ]
    },
    {
      "cell_type": "code",
      "source": [
        "name = 'Boom'\n",
        "print(name.replace('m', 'B'))"
      ],
      "metadata": {
        "colab": {
          "base_uri": "https://localhost:8080/"
        },
        "id": "lIPZvO8iWj8j",
        "outputId": "ba012ab9-bb30-4bac-cb9f-ce847ffbec5c"
      },
      "execution_count": null,
      "outputs": [
        {
          "output_type": "stream",
          "name": "stdout",
          "text": [
            "BooB\n"
          ]
        }
      ]
    },
    {
      "cell_type": "code",
      "source": [
        "name = 'Boom'\n",
        "print(name.upper())\n",
        "\n",
        "name = 'Boom'\n",
        "print(name.lower())"
      ],
      "metadata": {
        "colab": {
          "base_uri": "https://localhost:8080/"
        },
        "id": "8v5tbNsnViYI",
        "outputId": "0435798a-e504-4a81-fd84-e2c4620e078f"
      },
      "execution_count": null,
      "outputs": [
        {
          "output_type": "stream",
          "name": "stdout",
          "text": [
            "BOOM\n",
            "boom\n"
          ]
        }
      ]
    },
    {
      "cell_type": "code",
      "source": [
        "name = 'Boom'\n",
        "print(name.isupper())\n",
        "\n",
        "name = 'BOOM'\n",
        "print(name.isupper())\n",
        "\n",
        "name = 'Boom'\n",
        "print(name.islower())\n",
        "\n",
        "name = 'boom'\n",
        "print(name.islower())"
      ],
      "metadata": {
        "colab": {
          "base_uri": "https://localhost:8080/"
        },
        "id": "QihLaFVrVvdl",
        "outputId": "9d89b222-61ad-4ac3-9d60-0fad822b9d06"
      },
      "execution_count": null,
      "outputs": [
        {
          "output_type": "stream",
          "name": "stdout",
          "text": [
            "False\n",
            "True\n",
            "False\n",
            "True\n"
          ]
        }
      ]
    },
    {
      "cell_type": "markdown",
      "source": [
        "#### **Numbers in Python**"
      ],
      "metadata": {
        "id": "BPLcyui_Wxx2"
      }
    },
    {
      "cell_type": "code",
      "source": [
        "a = 23\n",
        "b = 45\n",
        "c = 5.5\n",
        "d = 9\n",
        "\n",
        "sum = (a+c)\n",
        "print(\"Sum of a & c :\",sum)\n",
        "\n",
        "sub = (b-c)\n",
        "print(\"Sub of b & c :\",sub)\n",
        "\n",
        "mul = (d*c)\n",
        "print(\"Mul of d & c :\",mul)\n",
        "\n",
        "div =(b/d)\n",
        "print(\"Div of b & d :\",div)\n",
        "\n",
        "rem = (a%d)\n",
        "print(\"Remainder of a & d :\",rem)"
      ],
      "metadata": {
        "colab": {
          "base_uri": "https://localhost:8080/"
        },
        "id": "7jXgPHOYW1Xy",
        "outputId": "9a9bcb17-9ad5-4104-ce89-8d5b9d09a0f0"
      },
      "execution_count": null,
      "outputs": [
        {
          "output_type": "stream",
          "name": "stdout",
          "text": [
            "Sum of a & c : 28.5\n",
            "Sub of b & c : 39.5\n",
            "Mul of d & c : 49.5\n",
            "Div of b & d : 5.0\n",
            "Remainder of a & d : 5\n"
          ]
        }
      ]
    },
    {
      "cell_type": "code",
      "source": [
        "num = -25\n",
        "print(abs(num))"
      ],
      "metadata": {
        "colab": {
          "base_uri": "https://localhost:8080/"
        },
        "id": "Hdpj7TkMYZ4P",
        "outputId": "ce64a25d-cf02-4777-bd8a-83fefd7e4451"
      },
      "execution_count": null,
      "outputs": [
        {
          "output_type": "stream",
          "name": "stdout",
          "text": [
            "25\n"
          ]
        }
      ]
    },
    {
      "cell_type": "code",
      "source": [
        "num = (1,4,24,56,3,5,6)\n",
        "print(max(num))\n",
        "\n",
        "num = (1,4,24,56,3,5,6)\n",
        "print(min(num))"
      ],
      "metadata": {
        "colab": {
          "base_uri": "https://localhost:8080/"
        },
        "id": "Manqikh3Yrd3",
        "outputId": "80d78fb9-586a-448b-9581-5ac49aa1df69"
      },
      "execution_count": null,
      "outputs": [
        {
          "output_type": "stream",
          "name": "stdout",
          "text": [
            "56\n",
            "1\n"
          ]
        }
      ]
    },
    {
      "cell_type": "code",
      "source": [
        "num1 = 123.45\n",
        "print(round(num1))\n",
        "\n",
        "num2 = 123.55\n",
        "print(round(num2))"
      ],
      "metadata": {
        "colab": {
          "base_uri": "https://localhost:8080/"
        },
        "id": "2qwfz6NfZE4l",
        "outputId": "bb4bd805-1822-4364-d152-288f71dbad26"
      },
      "execution_count": null,
      "outputs": [
        {
          "output_type": "stream",
          "name": "stdout",
          "text": [
            "123\n",
            "124\n"
          ]
        }
      ]
    },
    {
      "cell_type": "code",
      "source": [
        "a = 4\n",
        "b = 5\n",
        "\n",
        "print(pow(a,b))"
      ],
      "metadata": {
        "colab": {
          "base_uri": "https://localhost:8080/"
        },
        "id": "_R2huCbsbnKJ",
        "outputId": "cfcdf38f-04c5-4876-c51c-65bdcd1db9e0"
      },
      "execution_count": null,
      "outputs": [
        {
          "output_type": "stream",
          "name": "stdout",
          "text": [
            "1024\n"
          ]
        }
      ]
    },
    {
      "cell_type": "code",
      "source": [
        "num = 256\n",
        "\n",
        "Binary = bin(num)\n",
        "print(\"Binary of \",num, \"is :\",Binary)\n",
        "\n",
        "Octal = oct(num)\n",
        "print(\"Octal of \",num, \"is :\",Octal)\n",
        "\n",
        "Hexa = hex(num)\n",
        "print(\"Hexa of \",num, \"is :\",Hexa)"
      ],
      "metadata": {
        "colab": {
          "base_uri": "https://localhost:8080/"
        },
        "id": "fHs04iQsZzR0",
        "outputId": "b90e1b80-884b-404b-d10f-df28873e01ce"
      },
      "execution_count": null,
      "outputs": [
        {
          "output_type": "stream",
          "name": "stdout",
          "text": [
            "Binary of  256 is : 0b100000000\n",
            "Octal of  256 is : 0o400\n",
            "Hexa of  256 is : 0x100\n"
          ]
        }
      ]
    },
    {
      "cell_type": "code",
      "source": [
        "from math import *\n",
        "\n",
        "a = 144\n",
        "b = 12.5\n",
        "\n",
        "print('Square root of',a,'is :',sqrt(a))\n",
        "\n",
        "print('Ceiling value of',b,'is :',ceil(b))\n",
        "\n",
        "print('Floor value of',b,'is :',floor(b))\n",
        "\n",
        "print('Value of Pi','is :',pi)\n",
        "\n",
        "print('Value of e','is :',e)\n"
      ],
      "metadata": {
        "colab": {
          "base_uri": "https://localhost:8080/"
        },
        "id": "JyvhvZ7IahkS",
        "outputId": "237f6aa2-2681-4a0b-f0fa-85919267cb0d"
      },
      "execution_count": null,
      "outputs": [
        {
          "output_type": "stream",
          "name": "stdout",
          "text": [
            "Square root of 144 is : 12.0\n",
            "Ceiling value of 12.5 is : 13\n",
            "Floor value of 12.5 is : 12\n",
            "Value of Pi is : 3.141592653589793\n",
            "Value of e is : 2.718281828459045\n"
          ]
        }
      ]
    },
    {
      "cell_type": "markdown",
      "source": [
        "#### **Getting User Input**"
      ],
      "metadata": {
        "id": "tjtSnU1qdKWT"
      }
    },
    {
      "cell_type": "code",
      "source": [
        "name = str(input('Your name? '))\n",
        "age = int(input('Your age? '))\n",
        "\n",
        "print('Your name is',name, '\\nAnd your age is',age)"
      ],
      "metadata": {
        "colab": {
          "base_uri": "https://localhost:8080/"
        },
        "id": "KOl3aptmdO6p",
        "outputId": "4802a9b6-2962-4687-859f-8aea9df44d15"
      },
      "execution_count": null,
      "outputs": [
        {
          "output_type": "stream",
          "name": "stdout",
          "text": [
            "Your name? Tommy\n",
            "Your age? 18\n",
            "Your name is Tommy \n",
            "And your age is 18\n"
          ]
        }
      ]
    },
    {
      "cell_type": "markdown",
      "source": [
        "#### **Word Replacement**"
      ],
      "metadata": {
        "id": "cMWCZzWW3rl3"
      }
    },
    {
      "cell_type": "code",
      "source": [
        "sentence = input(\"Enter your text: \")\n",
        "print(\"Your text is : \",sentence)\n",
        "word1 = input(\"Enter the word to replace : \")\n",
        "word2 = input(\"Enter the new word : \")\n",
        "print(\"After replacement :\",sentence.replace(word1, word2))"
      ],
      "metadata": {
        "colab": {
          "base_uri": "https://localhost:8080/"
        },
        "id": "ikviT0FvrwBk",
        "outputId": "41dbd034-a9be-4239-b53d-e33021534176"
      },
      "execution_count": null,
      "outputs": [
        {
          "output_type": "stream",
          "name": "stdout",
          "text": [
            "Enter your text: Hello good people. Python is fun.\n",
            "Your text is :  Hello good people. Python is fun.\n",
            "Enter the word to replace : people\n",
            "Enter the new word : peeps\n",
            "After replacement : Hello good peeps. Python is fun.\n"
          ]
        }
      ]
    },
    {
      "cell_type": "markdown",
      "source": [
        "#### **List In Python**"
      ],
      "metadata": {
        "id": "q7n7TQb38IoD"
      }
    },
    {
      "cell_type": "code",
      "source": [
        "Number = ['Zero','One','Two','Three','Four','Five','Six']\n",
        "print(Number[2])"
      ],
      "metadata": {
        "colab": {
          "base_uri": "https://localhost:8080/"
        },
        "id": "fr64gq8h8OGL",
        "outputId": "6e546c30-f1c8-48df-a0c2-67f29ddf0af4"
      },
      "execution_count": null,
      "outputs": [
        {
          "output_type": "stream",
          "name": "stdout",
          "text": [
            "Two\n"
          ]
        }
      ]
    },
    {
      "cell_type": "code",
      "source": [
        "Number = ['Zero','One','Two','Three','Four','Five','Six']\n",
        "print(len(Number))"
      ],
      "metadata": {
        "colab": {
          "base_uri": "https://localhost:8080/"
        },
        "id": "qcQukJPZBbn0",
        "outputId": "f7d0e79c-df0e-42b9-ccf8-be84e7e4ad44"
      },
      "execution_count": null,
      "outputs": [
        {
          "output_type": "stream",
          "name": "stdout",
          "text": [
            "7\n"
          ]
        }
      ]
    },
    {
      "cell_type": "code",
      "source": [
        ""
      ],
      "metadata": {
        "id": "rZdqE8xPBg9c"
      },
      "execution_count": null,
      "outputs": []
    },
    {
      "cell_type": "code",
      "source": [
        "Number = ['Zero','One','Two','Three','Four','Five','Six']\n",
        "print(Number[3][0])"
      ],
      "metadata": {
        "colab": {
          "base_uri": "https://localhost:8080/"
        },
        "id": "PwpICLVm-2um",
        "outputId": "f3490950-ef9b-47d0-93ee-90ff8d647f6f"
      },
      "execution_count": null,
      "outputs": [
        {
          "output_type": "stream",
          "name": "stdout",
          "text": [
            "T\n"
          ]
        }
      ]
    },
    {
      "cell_type": "code",
      "source": [
        "Number = ['Zero','One','Two','Three','Four','Five','Six']\n",
        "print(Number[2:])"
      ],
      "metadata": {
        "colab": {
          "base_uri": "https://localhost:8080/"
        },
        "id": "l7Q_vIIs_AAk",
        "outputId": "7c9a868f-d6de-40c2-cdcf-1016a468d709"
      },
      "execution_count": null,
      "outputs": [
        {
          "output_type": "stream",
          "name": "stdout",
          "text": [
            "['Two', 'Three', 'Four', 'Five', 'Six']\n"
          ]
        }
      ]
    },
    {
      "cell_type": "code",
      "source": [
        "Number = ['Zero','One','Two','Three','Four','Five','Six']\n",
        "print(Number[2:5])"
      ],
      "metadata": {
        "colab": {
          "base_uri": "https://localhost:8080/"
        },
        "id": "74mn04_N_UR7",
        "outputId": "f29ece36-281c-47d1-ea9b-af837c9596d8"
      },
      "execution_count": null,
      "outputs": [
        {
          "output_type": "stream",
          "name": "stdout",
          "text": [
            "['Two', 'Three', 'Four']\n"
          ]
        }
      ]
    },
    {
      "cell_type": "code",
      "source": [
        "Number = ['Zero','One','Two','Three','Four','Five','Six']\n",
        "print(Number[-2])"
      ],
      "metadata": {
        "colab": {
          "base_uri": "https://localhost:8080/"
        },
        "id": "H0P0-JIrAu_r",
        "outputId": "3f33cb8e-6990-45e9-bad4-213129ceeddd"
      },
      "execution_count": null,
      "outputs": [
        {
          "output_type": "stream",
          "name": "stdout",
          "text": [
            "Five\n"
          ]
        }
      ]
    },
    {
      "cell_type": "code",
      "source": [
        "Number = ['Zero','One','Two','Three','Four','Five','Six']\n",
        "print(type(Number))"
      ],
      "metadata": {
        "colab": {
          "base_uri": "https://localhost:8080/"
        },
        "id": "vlGaX7A5AIRM",
        "outputId": "6fdae5f5-dfd1-4e26-9d69-5501d545fb19"
      },
      "execution_count": null,
      "outputs": [
        {
          "output_type": "stream",
          "name": "stdout",
          "text": [
            "<class 'list'>\n"
          ]
        }
      ]
    },
    {
      "cell_type": "code",
      "source": [
        "Number = ['Zero','One','Two','Three','Four','Five','Six']\n",
        "print(type(Number[0]))"
      ],
      "metadata": {
        "colab": {
          "base_uri": "https://localhost:8080/"
        },
        "id": "Pgcsf6hSASmU",
        "outputId": "853d2ea1-3a3c-42c6-f2a7-9f1ffd4fc7c7"
      },
      "execution_count": null,
      "outputs": [
        {
          "output_type": "stream",
          "name": "stdout",
          "text": [
            "<class 'str'>\n"
          ]
        }
      ]
    },
    {
      "cell_type": "code",
      "source": [
        "Number = list(('Zero','One','Two','Three','Four','Five','Six'))\n",
        "print(Number[2])"
      ],
      "metadata": {
        "colab": {
          "base_uri": "https://localhost:8080/"
        },
        "id": "Kuo8t5bpDsms",
        "outputId": "5e22d9f6-9730-4d0f-e2f9-a8d0efab62ba"
      },
      "execution_count": null,
      "outputs": [
        {
          "output_type": "stream",
          "name": "stdout",
          "text": [
            "Two\n"
          ]
        }
      ]
    },
    {
      "cell_type": "code",
      "source": [
        "Number = list(('Zero','One','Two','Three','Four','Five','Six'))\n",
        "print(type(Number))"
      ],
      "metadata": {
        "colab": {
          "base_uri": "https://localhost:8080/"
        },
        "id": "yamE3CpiD2GE",
        "outputId": "3a754520-eb6a-4aa1-9566-e243529ed842"
      },
      "execution_count": null,
      "outputs": [
        {
          "output_type": "stream",
          "name": "stdout",
          "text": [
            "<class 'list'>\n"
          ]
        }
      ]
    },
    {
      "cell_type": "code",
      "source": [
        "Number = ['One', 1, True, 1.1, 1j]\n",
        "print(type(Number[0]))\n",
        "print(type(Number[1]))\n",
        "print(type(Number[2]))\n",
        "print(type(Number[3]))\n",
        "print(type(Number[4]))"
      ],
      "metadata": {
        "colab": {
          "base_uri": "https://localhost:8080/"
        },
        "id": "2fqCg-OkEMT8",
        "outputId": "28857773-6521-46ce-99ce-b2a3cad642d9"
      },
      "execution_count": null,
      "outputs": [
        {
          "output_type": "stream",
          "name": "stdout",
          "text": [
            "<class 'str'>\n",
            "<class 'int'>\n",
            "<class 'bool'>\n",
            "<class 'float'>\n",
            "<class 'complex'>\n"
          ]
        }
      ]
    },
    {
      "cell_type": "markdown",
      "source": [
        "#### **List Methods**"
      ],
      "metadata": {
        "id": "gdT58nlAFcFn"
      }
    },
    {
      "cell_type": "code",
      "source": [
        "Number1 = [0, 1, 2, 3, 4, 5, 6]\n",
        "Number2 = ['Zero','One','Two','Three','Four','Five','Six']\n",
        "Number1.extend(Number2)\n",
        "print(Number1)\n",
        "print(Number2)"
      ],
      "metadata": {
        "colab": {
          "base_uri": "https://localhost:8080/"
        },
        "id": "2elH4OxjFnSg",
        "outputId": "44b0e1a9-17cb-4dd2-f13f-7fff9c941b2a"
      },
      "execution_count": null,
      "outputs": [
        {
          "output_type": "stream",
          "name": "stdout",
          "text": [
            "[0, 1, 2, 3, 4, 5, 6, 'Zero', 'One', 'Two', 'Three', 'Four', 'Five', 'Six']\n",
            "['Zero', 'One', 'Two', 'Three', 'Four', 'Five', 'Six']\n"
          ]
        }
      ]
    },
    {
      "cell_type": "code",
      "source": [
        "Number2 = ['Zero','One','Two','Three','Four','Five','Six']\n",
        "Number2.append('Seven')\n",
        "print(Number2)"
      ],
      "metadata": {
        "colab": {
          "base_uri": "https://localhost:8080/"
        },
        "id": "7xGq2xxrIruf",
        "outputId": "73ddb45f-10fb-46b5-b5a2-45071709c793"
      },
      "execution_count": null,
      "outputs": [
        {
          "output_type": "stream",
          "name": "stdout",
          "text": [
            "['Zero', 'One', 'Two', 'Three', 'Four', 'Five', 'Six', 'Seven']\n"
          ]
        }
      ]
    },
    {
      "cell_type": "code",
      "source": [
        "Number2 = ['Zero','Two','Three','Four','Five','Six']\n",
        "Number2.insert(1,'One')\n",
        "print(Number2)"
      ],
      "metadata": {
        "colab": {
          "base_uri": "https://localhost:8080/"
        },
        "id": "Sn2cGU3JJIuY",
        "outputId": "6e884c5b-774b-4fa0-be7c-8e0d17bb5336"
      },
      "execution_count": null,
      "outputs": [
        {
          "output_type": "stream",
          "name": "stdout",
          "text": [
            "['Zero', 'One', 'Two', 'Three', 'Four', 'Five', 'Six']\n"
          ]
        }
      ]
    },
    {
      "cell_type": "code",
      "source": [
        "Number2 = ['Zero','One', 'One', 'Two','Three','Four','Five','Six']\n",
        "Number2.remove('One')\n",
        "print(Number2)"
      ],
      "metadata": {
        "colab": {
          "base_uri": "https://localhost:8080/"
        },
        "id": "eUV8cbGFJafP",
        "outputId": "0d63006d-d3d6-4b5f-ec13-dd800d293811"
      },
      "execution_count": null,
      "outputs": [
        {
          "output_type": "stream",
          "name": "stdout",
          "text": [
            "['Zero', 'One', 'Two', 'Three', 'Four', 'Five', 'Six']\n"
          ]
        }
      ]
    },
    {
      "cell_type": "code",
      "source": [
        "Number2 = ['Zero','One', 'One', 'Two','Three','Four','Five','Six']\n",
        "Number2.clear()\n",
        "print(Number2)"
      ],
      "metadata": {
        "colab": {
          "base_uri": "https://localhost:8080/"
        },
        "id": "eypt4dJ8Jvu4",
        "outputId": "e95baa02-cbb2-43a3-871a-8cd033721310"
      },
      "execution_count": null,
      "outputs": [
        {
          "output_type": "stream",
          "name": "stdout",
          "text": [
            "[]\n"
          ]
        }
      ]
    },
    {
      "cell_type": "code",
      "source": [
        "Number2 = ['Zero','One', 'Two','Three','Four','Five','Six']\n",
        "print(Number2.index('One'))"
      ],
      "metadata": {
        "colab": {
          "base_uri": "https://localhost:8080/"
        },
        "id": "BeW358xUJ2Ub",
        "outputId": "3fe10ef3-38b9-4ac8-ca10-6e181e5b658b"
      },
      "execution_count": null,
      "outputs": [
        {
          "output_type": "stream",
          "name": "stdout",
          "text": [
            "1\n"
          ]
        }
      ]
    },
    {
      "cell_type": "code",
      "source": [
        "Number2 = ['Zero','One', 'One', 'Two','Three','Four','Five','Six']\n",
        "print(Number2.count('One'))"
      ],
      "metadata": {
        "colab": {
          "base_uri": "https://localhost:8080/"
        },
        "id": "yy9b8YEXKNOw",
        "outputId": "374daf94-ff87-43af-b313-f7173bee064e"
      },
      "execution_count": null,
      "outputs": [
        {
          "output_type": "stream",
          "name": "stdout",
          "text": [
            "2\n"
          ]
        }
      ]
    },
    {
      "cell_type": "code",
      "source": [
        "Number = [1, 4, 6, 3, 7, 8, 2]\n",
        "Number.sort()\n",
        "print(Number)"
      ],
      "metadata": {
        "colab": {
          "base_uri": "https://localhost:8080/"
        },
        "id": "lAgdeCO2KgR5",
        "outputId": "4a19720d-0b13-4d11-be82-148325b38c45"
      },
      "execution_count": null,
      "outputs": [
        {
          "output_type": "stream",
          "name": "stdout",
          "text": [
            "[1, 2, 3, 4, 6, 7, 8]\n"
          ]
        }
      ]
    },
    {
      "cell_type": "code",
      "source": [
        "Number2 = ['Zero','One', 'Two','Three','Four','Five','Six']\n",
        "Number2.reverse()\n",
        "print(Number2)"
      ],
      "metadata": {
        "colab": {
          "base_uri": "https://localhost:8080/"
        },
        "id": "8ADAKd-ILFgh",
        "outputId": "8199d98e-24b0-4061-c447-b1b3d578b042"
      },
      "execution_count": null,
      "outputs": [
        {
          "output_type": "stream",
          "name": "stdout",
          "text": [
            "['Six', 'Five', 'Four', 'Three', 'Two', 'One', 'Zero']\n"
          ]
        }
      ]
    },
    {
      "cell_type": "code",
      "source": [
        "Number2 = ['Zero','One','Two','Three','Four','Five','Six']\n",
        "Number3 = Number2.copy()\n",
        "print(Number3)"
      ],
      "metadata": {
        "colab": {
          "base_uri": "https://localhost:8080/"
        },
        "id": "KGb5NZ6pMMl5",
        "outputId": "7af6d815-bb43-432e-823b-50144ec8496e"
      },
      "execution_count": null,
      "outputs": [
        {
          "output_type": "stream",
          "name": "stdout",
          "text": [
            "['Zero', 'One', 'Two', 'Three', 'Four', 'Five', 'Six']\n"
          ]
        }
      ]
    },
    {
      "cell_type": "code",
      "source": [
        "Number2 = ['Zero','One','Two','Three','Four','Five','Six']\n",
        "Number2.pop()\n",
        "print(Number2)"
      ],
      "metadata": {
        "colab": {
          "base_uri": "https://localhost:8080/"
        },
        "id": "RtCTMYbDMwg5",
        "outputId": "45db108a-1cc4-4913-9b74-4dd06f7a64e4"
      },
      "execution_count": null,
      "outputs": [
        {
          "output_type": "stream",
          "name": "stdout",
          "text": [
            "['Zero', 'One', 'Two', 'Three', 'Four', 'Five']\n"
          ]
        }
      ]
    },
    {
      "cell_type": "code",
      "source": [
        "Number2 = ['Zero','One','Two','Three','Four','Five','Six']\n",
        "Number2.pop(2)\n",
        "print(Number2)"
      ],
      "metadata": {
        "colab": {
          "base_uri": "https://localhost:8080/"
        },
        "id": "VCsNUtK0M3-6",
        "outputId": "142cb316-99df-45bc-ab28-6e4f67db04ed"
      },
      "execution_count": null,
      "outputs": [
        {
          "output_type": "stream",
          "name": "stdout",
          "text": [
            "['Zero', 'One', 'Three', 'Four', 'Five', 'Six']\n"
          ]
        }
      ]
    },
    {
      "cell_type": "code",
      "source": [
        "Number2 = ['Zero','One','Two','Three','Four','Five','Six']\n",
        "del Number2[0]\n",
        "print(Number2)"
      ],
      "metadata": {
        "colab": {
          "base_uri": "https://localhost:8080/"
        },
        "id": "Oa3UyhglNFTi",
        "outputId": "a0520ea6-fc77-49db-e12e-2123cd0ad2c2"
      },
      "execution_count": null,
      "outputs": [
        {
          "output_type": "stream",
          "name": "stdout",
          "text": [
            "['One', 'Two', 'Three', 'Four', 'Five', 'Six']\n"
          ]
        }
      ]
    },
    {
      "cell_type": "markdown",
      "source": [
        "#### **Tuples in Python**"
      ],
      "metadata": {
        "id": "JjwNerhgNcgh"
      }
    },
    {
      "cell_type": "code",
      "source": [
        "Number = ('One', 1, True, 1.1, 1j)\n",
        "print(type(Number))\n",
        "\n",
        "print(type(Number[0]))\n",
        "print(type(Number[1]))\n",
        "print(type(Number[2]))\n",
        "print(type(Number[3]))\n",
        "print(type(Number[4]))"
      ],
      "metadata": {
        "id": "X1wf5fAkNgdS",
        "colab": {
          "base_uri": "https://localhost:8080/"
        },
        "outputId": "76c263fa-bcac-4e5a-da26-998a66052fc5"
      },
      "execution_count": null,
      "outputs": [
        {
          "output_type": "stream",
          "name": "stdout",
          "text": [
            "<class 'tuple'>\n",
            "<class 'str'>\n",
            "<class 'int'>\n",
            "<class 'bool'>\n",
            "<class 'float'>\n",
            "<class 'complex'>\n"
          ]
        }
      ]
    },
    {
      "cell_type": "code",
      "source": [
        "Number = ('One', 1, True, 1.1, 1j)\n",
        "print(len(Number))"
      ],
      "metadata": {
        "colab": {
          "base_uri": "https://localhost:8080/"
        },
        "id": "g10VVFSLgX-G",
        "outputId": "af0b6eb8-baef-44a3-e910-c1108e84ac67"
      },
      "execution_count": null,
      "outputs": [
        {
          "output_type": "stream",
          "name": "stdout",
          "text": [
            "5\n"
          ]
        }
      ]
    },
    {
      "cell_type": "markdown",
      "source": [
        "#### **Functions in Python**"
      ],
      "metadata": {
        "id": "tY5msBTYWRRs"
      }
    },
    {
      "cell_type": "code",
      "source": [
        "def function():\n",
        "  print('Hello Python Lover')\n",
        "function()"
      ],
      "metadata": {
        "id": "VuePtppJWYtV",
        "colab": {
          "base_uri": "https://localhost:8080/"
        },
        "outputId": "7a999f94-aaba-4141-87d0-0caa50c1ea5a"
      },
      "execution_count": null,
      "outputs": [
        {
          "output_type": "stream",
          "name": "stdout",
          "text": [
            "Hello Python Lover\n"
          ]
        }
      ]
    },
    {
      "cell_type": "code",
      "source": [
        "def function(n,a):\n",
        "  print('My name is',n,'. I\\'m',a,'years old.')\n",
        "\n",
        "name = input('Enter your name : ')\n",
        "age = int(input('Enter your age : '))\n",
        "\n",
        "function(name,age)"
      ],
      "metadata": {
        "colab": {
          "base_uri": "https://localhost:8080/"
        },
        "id": "qMwGoHnr6_3l",
        "outputId": "6fb0001f-601e-495f-8a76-008a6e1ac029"
      },
      "execution_count": null,
      "outputs": [
        {
          "output_type": "stream",
          "name": "stdout",
          "text": [
            "Enter your name : Rick\n",
            "Enter your age : 18\n",
            "My name is Rick . I'm 18 years old.\n"
          ]
        }
      ]
    },
    {
      "cell_type": "markdown",
      "source": [
        "#### **Return Keyword in Python**"
      ],
      "metadata": {
        "id": "IsRhGYkf8HmR"
      }
    },
    {
      "cell_type": "code",
      "source": [
        "def add(num1,num2):\n",
        "  return num1+num2\n",
        "\n",
        "num1 = int(input('Enter first number : '))\n",
        "num2 = int(input('Enter second number : '))\n",
        "\n",
        "print('Addition of',num1,'and',num2,'is',add(num1,num2))"
      ],
      "metadata": {
        "colab": {
          "base_uri": "https://localhost:8080/"
        },
        "id": "vHrGgqlI8Or9",
        "outputId": "da8370f7-3299-4b9b-d298-649f943b0633"
      },
      "execution_count": null,
      "outputs": [
        {
          "output_type": "stream",
          "name": "stdout",
          "text": [
            "Enter first number : 45\n",
            "Enter second number : 40\n",
            "Addition of 45 and 40 is 85\n"
          ]
        }
      ]
    },
    {
      "cell_type": "markdown",
      "source": [
        "#### **Conditional Statements in Python**"
      ],
      "metadata": {
        "id": "Syw6fZS3AeUF"
      }
    },
    {
      "cell_type": "code",
      "source": [
        "a = 5\n",
        "b = 7\n",
        "\n",
        "if a>b:\n",
        "  print('a is greater than b')\n",
        "elif a<b:\n",
        "  print('a is smaller than b')\n",
        "else:\n",
        "  print('a is equal to b')"
      ],
      "metadata": {
        "colab": {
          "base_uri": "https://localhost:8080/"
        },
        "id": "JatuY1AhAkGe",
        "outputId": "a6126ef2-8f35-4bc9-d81c-a0be344037e9"
      },
      "execution_count": null,
      "outputs": [
        {
          "output_type": "stream",
          "name": "stdout",
          "text": [
            "a is smaller than b\n"
          ]
        }
      ]
    },
    {
      "cell_type": "code",
      "source": [
        "Number = ['One', 1, True, 1.1, 1j]\n",
        "\n",
        "val = Number[3]\n",
        "\n",
        "if type(val) == int:\n",
        "  print(val,'is an Integer')\n",
        "elif type(val) == str:\n",
        "  print(val,'is a String')\n",
        "elif type(val) == bool:\n",
        "  print(val,'is a Boolean')\n",
        "elif type(val) == list:\n",
        "  print(val,'is a List')\n",
        "elif type(val) == tuple:\n",
        "  print(val,'is a Tuple')\n",
        "elif type(val) == float:\n",
        "  print(val,'is a Float')\n",
        "elif type(val) == complex:\n",
        "  print(val,'is a Complex')\n",
        "else:\n",
        "  print('Oops! What the hell was that!')"
      ],
      "metadata": {
        "colab": {
          "base_uri": "https://localhost:8080/"
        },
        "id": "3w5J85sLDVTx",
        "outputId": "c0010318-c075-4102-b77a-4e2a2722a9a0"
      },
      "execution_count": null,
      "outputs": [
        {
          "output_type": "stream",
          "name": "stdout",
          "text": [
            "1.1 is a Float\n"
          ]
        }
      ]
    },
    {
      "cell_type": "markdown",
      "source": [
        "#### **Even Odd Checker Program**"
      ],
      "metadata": {
        "id": "_FB3MpHjGtgQ"
      }
    },
    {
      "cell_type": "code",
      "source": [
        "num = int(input('Enter a number to check : '))\n",
        "\n",
        "if num%2 == 0:\n",
        "  print('It is an Even number')\n",
        "else:\n",
        "  print('It is an Odd number')"
      ],
      "metadata": {
        "colab": {
          "base_uri": "https://localhost:8080/"
        },
        "id": "cnrKpHwwG2iJ",
        "outputId": "c07ba0fd-4e47-4867-ec2f-c9774de40e33"
      },
      "execution_count": null,
      "outputs": [
        {
          "output_type": "stream",
          "name": "stdout",
          "text": [
            "Enter a number to check : 69\n",
            "It is an Odd number\n"
          ]
        }
      ]
    },
    {
      "cell_type": "markdown",
      "source": [
        "#### **Dictionaries in Python**"
      ],
      "metadata": {
        "id": "4t8DFArsHdZT"
      }
    },
    {
      "cell_type": "code",
      "source": [
        "my_dict = {\n",
        "    'name':'Alex',\n",
        "    'age':18,\n",
        "    'nation':'England',\n",
        "    'school':'8'\n",
        "}\n",
        "print(my_dict['name'])"
      ],
      "metadata": {
        "colab": {
          "base_uri": "https://localhost:8080/"
        },
        "id": "9yfMfrttHjK8",
        "outputId": "b286c7b0-5f5b-4b2c-f0ae-750e1bd7d1a5"
      },
      "execution_count": null,
      "outputs": [
        {
          "output_type": "stream",
          "name": "stdout",
          "text": [
            "Alex\n"
          ]
        }
      ]
    },
    {
      "cell_type": "code",
      "source": [
        "my_dict = {\n",
        "    'name':'Alex',\n",
        "    'age':'18',\n",
        "    'nation':'England',\n",
        "    'school':'8'\n",
        "}\n",
        "print(len(my_dict))"
      ],
      "metadata": {
        "colab": {
          "base_uri": "https://localhost:8080/"
        },
        "id": "nnZeYqcAMZ7h",
        "outputId": "abd461ef-b77d-4dad-cb93-89e16f9861ad"
      },
      "execution_count": null,
      "outputs": [
        {
          "output_type": "stream",
          "name": "stdout",
          "text": [
            "4\n"
          ]
        }
      ]
    },
    {
      "cell_type": "markdown",
      "source": [
        "#### **While Loops in Python**"
      ],
      "metadata": {
        "id": "CqXmDLq1M_gt"
      }
    },
    {
      "cell_type": "code",
      "source": [
        "i = 1\n",
        "while i<=5:\n",
        "  print(i)\n",
        "  i = i + 1"
      ],
      "metadata": {
        "colab": {
          "base_uri": "https://localhost:8080/"
        },
        "id": "vZyg4Cc2NDhK",
        "outputId": "6369ad2a-56fb-4553-dfff-9959afe98858"
      },
      "execution_count": null,
      "outputs": [
        {
          "output_type": "stream",
          "name": "stdout",
          "text": [
            "1\n",
            "2\n",
            "3\n",
            "4\n",
            "5\n"
          ]
        }
      ]
    },
    {
      "cell_type": "markdown",
      "source": [
        "#### **For Loops in Python**"
      ],
      "metadata": {
        "id": "Z-tDAgylOgmS"
      }
    },
    {
      "cell_type": "code",
      "source": [
        "Number = ['Zero','One','Two','Three','Four','Five','Six']\n",
        "\n",
        "for i in Number:\n",
        "  print(i)"
      ],
      "metadata": {
        "colab": {
          "base_uri": "https://localhost:8080/"
        },
        "id": "MxCgnO4cOfLa",
        "outputId": "04c62ecd-b46d-4f2b-8ac7-4c92bde2e5a7"
      },
      "execution_count": null,
      "outputs": [
        {
          "output_type": "stream",
          "name": "stdout",
          "text": [
            "Zero\n",
            "One\n",
            "Two\n",
            "Three\n",
            "Four\n",
            "Five\n",
            "Six\n"
          ]
        }
      ]
    },
    {
      "cell_type": "code",
      "source": [
        "Number = ['Zero','One','Two','Three','Four','Five','Six']\n",
        "\n",
        "for i in Number:\n",
        "  print(i)\n",
        "  if i == 'Four':\n",
        "    break"
      ],
      "metadata": {
        "colab": {
          "base_uri": "https://localhost:8080/"
        },
        "id": "uMrhIrfvPr53",
        "outputId": "a94144e5-090b-485b-c2c1-328648096439"
      },
      "execution_count": null,
      "outputs": [
        {
          "output_type": "stream",
          "name": "stdout",
          "text": [
            "Zero\n",
            "One\n",
            "Two\n",
            "Three\n",
            "Four\n"
          ]
        }
      ]
    },
    {
      "cell_type": "code",
      "source": [
        "for i in range(5):\n",
        "  print(i)"
      ],
      "metadata": {
        "colab": {
          "base_uri": "https://localhost:8080/"
        },
        "id": "RkhuoNEVQRMi",
        "outputId": "c3d7208e-7494-41ef-e7ce-642be8ae58da"
      },
      "execution_count": null,
      "outputs": [
        {
          "output_type": "stream",
          "name": "stdout",
          "text": [
            "0\n",
            "1\n",
            "2\n",
            "3\n",
            "4\n"
          ]
        }
      ]
    },
    {
      "cell_type": "code",
      "source": [
        "for i in range(5,10):\n",
        "  print(i)\n",
        "else:\n",
        "  print('End of looping!')"
      ],
      "metadata": {
        "colab": {
          "base_uri": "https://localhost:8080/"
        },
        "id": "Z16SoaevQorw",
        "outputId": "675cdd44-c2ef-4d67-f19c-4958ccc5db0c"
      },
      "execution_count": null,
      "outputs": [
        {
          "output_type": "stream",
          "name": "stdout",
          "text": [
            "5\n",
            "6\n",
            "7\n",
            "8\n",
            "9\n",
            "End of looping!\n"
          ]
        }
      ]
    },
    {
      "cell_type": "markdown",
      "source": [
        "#### **2D List in Python**"
      ],
      "metadata": {
        "id": "zNQ_FS_UQ1gl"
      }
    },
    {
      "cell_type": "code",
      "source": [
        "my_list = [\n",
        "           [1,2,3],\n",
        "           [4,5,6],\n",
        "           [7,8,9]\n",
        "]\n",
        "print(my_list[0][2])\n"
      ],
      "metadata": {
        "colab": {
          "base_uri": "https://localhost:8080/"
        },
        "id": "kCaAWDuFQ9fk",
        "outputId": "6a618d19-ebe0-4758-b84e-a45b5e98d3cd"
      },
      "execution_count": null,
      "outputs": [
        {
          "output_type": "stream",
          "name": "stdout",
          "text": [
            "3\n"
          ]
        }
      ]
    },
    {
      "cell_type": "code",
      "source": [
        "my_list = [\n",
        "           [1,2,3],\n",
        "           [4,5,6],\n",
        "           [7,8,9]\n",
        "]\n",
        "for col in my_list:\n",
        "  for row in col:\n",
        "    print(row)\n"
      ],
      "metadata": {
        "colab": {
          "base_uri": "https://localhost:8080/"
        },
        "id": "0YinBfGWRqKb",
        "outputId": "82c3907c-c686-410b-98dc-018ad63431de"
      },
      "execution_count": null,
      "outputs": [
        {
          "output_type": "stream",
          "name": "stdout",
          "text": [
            "1\n",
            "2\n",
            "3\n",
            "4\n",
            "5\n",
            "6\n",
            "7\n",
            "8\n",
            "9\n"
          ]
        }
      ]
    },
    {
      "cell_type": "markdown",
      "source": [
        "#### **Comments in Python**"
      ],
      "metadata": {
        "id": "3tGeQ0rZSKUM"
      }
    },
    {
      "cell_type": "code",
      "source": [
        "#Single line Comment\n",
        "print('Look up there! Single comment')"
      ],
      "metadata": {
        "colab": {
          "base_uri": "https://localhost:8080/"
        },
        "id": "bw-ygJv9SOW8",
        "outputId": "1a1efd19-e0c6-46e6-938e-367fd8a944df"
      },
      "execution_count": null,
      "outputs": [
        {
          "output_type": "stream",
          "name": "stdout",
          "text": [
            "Look up there!\n"
          ]
        }
      ]
    },
    {
      "cell_type": "code",
      "source": [
        "'''\n",
        "Multiple\n",
        "Line\n",
        "Comments\n",
        "'''\n",
        "print('Look up there! Multiple comments')"
      ],
      "metadata": {
        "colab": {
          "base_uri": "https://localhost:8080/"
        },
        "id": "Wn6PIabgS0JD",
        "outputId": "62979c1a-a301-4dd1-c7cb-b6413a50b33f"
      },
      "execution_count": null,
      "outputs": [
        {
          "output_type": "stream",
          "name": "stdout",
          "text": [
            "Look up there! Multiple comments\n"
          ]
        }
      ]
    },
    {
      "cell_type": "markdown",
      "source": [
        "#### **Building a Basic Calculator**"
      ],
      "metadata": {
        "id": "D1qUhIZ00RFc"
      }
    },
    {
      "cell_type": "code",
      "source": [
        "num1 = int(input('Enter first no : '))\n",
        "op = input('Enter operator : ')\n",
        "num2 = int(input('Enter second no : '))\n",
        "\n",
        "\n",
        "if op == '+':\n",
        "  print('The addition is : ',num1+num2)\n",
        "elif op == '-':\n",
        "  print('The subtraction is : ',num1-num2)\n",
        "elif op == '*':\n",
        "  print('The multiplication is : ',num1*num2)\n",
        "elif op == '/':\n",
        "  print('The division is : ', abs(num1/num2))\n",
        "else:\n",
        "  print('Invalid Operator')"
      ],
      "metadata": {
        "colab": {
          "base_uri": "https://localhost:8080/"
        },
        "id": "pD9Tpeaj0Xgz",
        "outputId": "25ac6e5a-83ac-4aeb-baa0-09cb8800b9d7"
      },
      "execution_count": null,
      "outputs": [
        {
          "output_type": "stream",
          "name": "stdout",
          "text": [
            "Enter first no : 45\n",
            "Enter operator : /\n",
            "Enter second no : 6\n",
            "The division is :  7.5\n"
          ]
        }
      ]
    },
    {
      "cell_type": "markdown",
      "source": [
        "#### **Try Except in Python**"
      ],
      "metadata": {
        "id": "1h5eOlSk8U6O"
      }
    },
    {
      "cell_type": "code",
      "source": [
        "try:\n",
        "  a = int(input('Enter an Integer : '))\n",
        "  print('You have entered :',a)\n",
        "except:\n",
        "  print('Oopss! Something went wrong!')"
      ],
      "metadata": {
        "colab": {
          "base_uri": "https://localhost:8080/"
        },
        "id": "MDogj8dl8ZXM",
        "outputId": "d8544ced-5f9a-42c8-cd1b-0085e4f24e30"
      },
      "execution_count": null,
      "outputs": [
        {
          "output_type": "stream",
          "name": "stdout",
          "text": [
            "Enter an Integer : 58\n",
            "You have entered : 58\n"
          ]
        }
      ]
    },
    {
      "cell_type": "code",
      "source": [
        "try:\n",
        "  a = int(input('Enter an Integer : '))\n",
        "  print('You have entered :',a)\n",
        "except:\n",
        "  print('Oopss! Something went wrong!')\n",
        "else:\n",
        "  print('You have entered correctly.')"
      ],
      "metadata": {
        "colab": {
          "base_uri": "https://localhost:8080/"
        },
        "id": "eFVpghU9-6Cc",
        "outputId": "cc650067-758d-47e7-f780-9ee1d2a4f9ef"
      },
      "execution_count": null,
      "outputs": [
        {
          "output_type": "stream",
          "name": "stdout",
          "text": [
            "Enter an Integer : 56\n",
            "You have entered : 56\n",
            "You have entered correctly.\n"
          ]
        }
      ]
    },
    {
      "cell_type": "code",
      "source": [
        "try:\n",
        "  a = int(input('Enter an Integer : '))\n",
        "  print('You have entered :',a)\n",
        "except:\n",
        "  print('Oopss! Something went wrong!')\n",
        "else:\n",
        "  print('You have entered correctly.')\n",
        "finally:\n",
        "  print('Code compilation completed!')"
      ],
      "metadata": {
        "colab": {
          "base_uri": "https://localhost:8080/"
        },
        "id": "0tnkYCWI_Nik",
        "outputId": "0d0a482d-6edf-4253-b7dc-ff229420435b"
      },
      "execution_count": null,
      "outputs": [
        {
          "output_type": "stream",
          "name": "stdout",
          "text": [
            "Enter an Integer : 54\n",
            "You have entered : 54\n",
            "You have entered correctly.\n",
            "Code compilation completed!\n"
          ]
        }
      ]
    },
    {
      "cell_type": "markdown",
      "source": [
        "#### **Reading Files in Python**"
      ],
      "metadata": {
        "id": "MXsunSNd_jFV"
      }
    },
    {
      "cell_type": "code",
      "source": [
        "from google.colab import files\n",
        "uploaded = files.upload()"
      ],
      "metadata": {
        "colab": {
          "resources": {
            "http://localhost:8080/nbextensions/google.colab/files.js": {
              "data": "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",
              "ok": true,
              "headers": [
                [
                  "content-type",
                  "application/javascript"
                ]
              ],
              "status": 200,
              "status_text": ""
            }
          },
          "base_uri": "https://localhost:8080/",
          "height": 73
        },
        "id": "9kOtL3AM_oPN",
        "outputId": "5228e9fa-a49c-4812-ede2-fb4b685eff20"
      },
      "execution_count": null,
      "outputs": [
        {
          "output_type": "display_data",
          "data": {
            "text/plain": [
              "<IPython.core.display.HTML object>"
            ],
            "text/html": [
              "\n",
              "     <input type=\"file\" id=\"files-883c9058-a3bc-4754-b7ed-86a6c0a5c0e6\" name=\"files[]\" multiple disabled\n",
              "        style=\"border:none\" />\n",
              "     <output id=\"result-883c9058-a3bc-4754-b7ed-86a6c0a5c0e6\">\n",
              "      Upload widget is only available when the cell has been executed in the\n",
              "      current browser session. Please rerun this cell to enable.\n",
              "      </output>\n",
              "      <script src=\"/nbextensions/google.colab/files.js\"></script> "
            ]
          },
          "metadata": {}
        },
        {
          "output_type": "stream",
          "name": "stdout",
          "text": [
            "Saving Example1.txt to Example1.txt\n"
          ]
        }
      ]
    },
    {
      "cell_type": "code",
      "source": [
        "with open('Example1.txt', \"r\") as file1:\n",
        "    FileContent = file1.read()\n",
        "    print(file1.readable())\n",
        "file1.close()"
      ],
      "metadata": {
        "colab": {
          "base_uri": "https://localhost:8080/"
        },
        "id": "BcYjw31LJPMb",
        "outputId": "21a46402-9001-4862-c94a-80cebf353db0"
      },
      "execution_count": null,
      "outputs": [
        {
          "output_type": "stream",
          "name": "stdout",
          "text": [
            "True\n"
          ]
        }
      ]
    },
    {
      "cell_type": "code",
      "source": [
        "with open('Example1.txt', \"r\") as file1:\n",
        "    FileContent = file1.read()\n",
        "    print(FileContent)\n",
        "file1.close()"
      ],
      "metadata": {
        "colab": {
          "base_uri": "https://localhost:8080/"
        },
        "id": "cgINeMZWHy4g",
        "outputId": "8e199ac3-9724-4b90-f02a-1c4ce6cb444f"
      },
      "execution_count": null,
      "outputs": [
        {
          "output_type": "stream",
          "name": "stdout",
          "text": [
            "Hello \n",
            "World\n",
            "I \n",
            "love \n",
            "Python\n"
          ]
        }
      ]
    },
    {
      "cell_type": "code",
      "source": [
        "for word in uploaded.keys():\n",
        "  uploaded[word].splitlines()\n",
        "\n",
        "with open('Example1.txt', \"r\") as file1:\n",
        "    FileContent = file1.readlines()\n",
        "print(FileContent[4])\n",
        "file1.close()"
      ],
      "metadata": {
        "colab": {
          "base_uri": "https://localhost:8080/"
        },
        "id": "JKD4qq5SU1xG",
        "outputId": "10cdba3e-9958-4165-8abf-b36e4f7b41cc"
      },
      "execution_count": null,
      "outputs": [
        {
          "output_type": "stream",
          "name": "stdout",
          "text": [
            "Python\n"
          ]
        }
      ]
    },
    {
      "cell_type": "markdown",
      "source": [
        "#### **Writing Files in Python**"
      ],
      "metadata": {
        "id": "ss3fQNdeYkGu"
      }
    },
    {
      "cell_type": "code",
      "source": [
        "with open('Example1.txt', \"w\") as file1:\n",
        "    file1.write('Hello Python Programmer Line 1\\n')\n",
        "    file1.write('Hello Python Programmer Line 2\\n')\n",
        "\n",
        "with open('Example1.txt', \"r\") as file1:\n",
        "    print(file1.read())"
      ],
      "metadata": {
        "colab": {
          "base_uri": "https://localhost:8080/"
        },
        "id": "7wgRlLCKYpfW",
        "outputId": "c56db381-c757-4b99-cb47-78042c5748d0"
      },
      "execution_count": null,
      "outputs": [
        {
          "output_type": "stream",
          "name": "stdout",
          "text": [
            "Hello Python Programmer Line 1\n",
            "Hello Python Programmer Line 2\n",
            "\n"
          ]
        }
      ]
    },
    {
      "cell_type": "markdown",
      "source": [
        "#### **Append New line in Python**"
      ],
      "metadata": {
        "id": "IjuFkf0gcUm3"
      }
    },
    {
      "cell_type": "code",
      "source": [
        "with open('Example1.txt', \"a\") as file1:\n",
        "  file1.write('Hello Python Programmer Line 3\\n')\n",
        "\n",
        "with open('Example1.txt', \"r\") as file1:\n",
        "    print(file1.read())"
      ],
      "metadata": {
        "colab": {
          "base_uri": "https://localhost:8080/"
        },
        "id": "lGrwIJbPahFe",
        "outputId": "75dcea39-583f-4348-9986-452c607e2684"
      },
      "execution_count": null,
      "outputs": [
        {
          "output_type": "stream",
          "name": "stdout",
          "text": [
            "Hello Python Programmer Line 1\n",
            "Hello Python Programmer Line 2\n",
            "Hello Python Programmer Line 3\n",
            "\n"
          ]
        }
      ]
    },
    {
      "cell_type": "markdown",
      "source": [
        "#### **Copy Files in Python**"
      ],
      "metadata": {
        "id": "wpa6xXJcbzO_"
      }
    },
    {
      "cell_type": "code",
      "source": [
        "with open('Example1.txt','r') as readfile:\n",
        "    with open('Example2.txt','w') as writefile:\n",
        "          for line in readfile:\n",
        "                writefile.write(line)\n",
        "\n",
        "with open('Example2.txt','r') as testwritefile:\n",
        "    print(testwritefile.read())"
      ],
      "metadata": {
        "colab": {
          "base_uri": "https://localhost:8080/"
        },
        "id": "wtv4X85sb4B-",
        "outputId": "6f2deccb-af49-469c-e455-3a7a70f47447"
      },
      "execution_count": null,
      "outputs": [
        {
          "output_type": "stream",
          "name": "stdout",
          "text": [
            "Hello Python Programmer Line 1\n",
            "Hello Python Programmer Line 2\n",
            "Hello Python Programmer Line 3\n",
            "\n"
          ]
        }
      ]
    },
    {
      "cell_type": "markdown",
      "source": [
        "#### **Classes and Objects in Python**"
      ],
      "metadata": {
        "id": "xL1JnHySc2yf"
      }
    },
    {
      "cell_type": "code",
      "source": [
        "class MyClass:\n",
        "  a = 7\n",
        "  \n",
        "p = MyClass()\n",
        "print(p.a)"
      ],
      "metadata": {
        "colab": {
          "base_uri": "https://localhost:8080/"
        },
        "id": "JDMv1OhydAWe",
        "outputId": "6c9d1746-4ad6-435f-fd0a-1d6031c95f00"
      },
      "execution_count": null,
      "outputs": [
        {
          "output_type": "stream",
          "name": "stdout",
          "text": [
            "7\n"
          ]
        }
      ]
    },
    {
      "cell_type": "code",
      "source": [
        "class Boy:\n",
        "  def __init__(self,name,age):\n",
        "      self.name = n\n",
        "      self.age = a\n",
        "\n",
        "n = input('Enter your name :')\n",
        "a = input('Enter your age :')\n",
        "\n",
        "p = Boy(n,a)\n",
        "print(p.name)\n",
        "print(p.age)"
      ],
      "metadata": {
        "colab": {
          "base_uri": "https://localhost:8080/"
        },
        "id": "tWRUl6SEBv61",
        "outputId": "c2662f92-47ca-4b97-87a3-576a5ba4095d"
      },
      "execution_count": null,
      "outputs": [
        {
          "output_type": "stream",
          "name": "stdout",
          "text": [
            "Enter your name :Mill\n",
            "Enter your age :18\n",
            "Mill\n",
            "18\n"
          ]
        }
      ]
    },
    {
      "cell_type": "code",
      "source": [
        "class Boy:\n",
        "  def __init__(self,name,age):\n",
        "      self.name = n\n",
        "      self.age = a\n",
        "      pass\n",
        "\n",
        "p = Boy('Mill', 18)\n",
        "del p.age\n",
        "\n",
        "print(p.name)\n"
      ],
      "metadata": {
        "colab": {
          "base_uri": "https://localhost:8080/"
        },
        "id": "cW3Axvz7DDlX",
        "outputId": "e787cb2b-641b-44c1-ebf3-c4530cbc8ecb"
      },
      "execution_count": null,
      "outputs": [
        {
          "output_type": "stream",
          "name": "stdout",
          "text": [
            "Mill\n"
          ]
        }
      ]
    },
    {
      "cell_type": "markdown",
      "source": [
        "#### **Inheritance in Python**"
      ],
      "metadata": {
        "id": "uXcfS6llDn0b"
      }
    },
    {
      "cell_type": "code",
      "source": [
        "class Student():\n",
        "  name = 'Alex'\n",
        "  age = 18\n",
        "  gender = 'Male'"
      ],
      "metadata": {
        "id": "ttJQsfoyDsei"
      },
      "execution_count": null,
      "outputs": []
    },
    {
      "cell_type": "code",
      "source": [
        "class Person(Student):\n",
        "  pass\n",
        "p = Person()\n",
        "print(p.name,p.age,p.gender)"
      ],
      "metadata": {
        "colab": {
          "base_uri": "https://localhost:8080/"
        },
        "id": "prVP-zawEowG",
        "outputId": "20ba5b8b-0f1c-46d2-9767-8cf34c7acea1"
      },
      "execution_count": null,
      "outputs": [
        {
          "output_type": "stream",
          "name": "stdout",
          "text": [
            "Alex 18 Male\n"
          ]
        }
      ]
    },
    {
      "cell_type": "markdown",
      "source": [
        "#### **Building a Login System**"
      ],
      "metadata": {
        "id": "P59CKA3FFSL3"
      }
    },
    {
      "cell_type": "code",
      "source": [
        "username = input('Enter Username :')\n",
        "password = input('Enter Password :')\n",
        "\n",
        "print('Account has been successfully created')\n",
        "print('Login now!')\n",
        "\n",
        "username2 = input('Enter Username :')\n",
        "password2 = input('Enter Password :')\n",
        "\n",
        "if username == username2 and password == password2:\n",
        "  print('Logged in Successfully')\n",
        "else:\n",
        "  print('Invalid Credentials!')"
      ],
      "metadata": {
        "colab": {
          "base_uri": "https://localhost:8080/"
        },
        "id": "QKS9gLbgGCqv",
        "outputId": "a844a648-bcdb-4d4f-d19f-c202de1f8e12"
      },
      "execution_count": null,
      "outputs": [
        {
          "output_type": "stream",
          "name": "stdout",
          "text": [
            "Enter Username :John.cena\n",
            "Enter Password :John12345\n",
            "Account has been successfully created\n",
            "Login now!\n",
            "Enter Username :John.cena\n",
            "Enter Password :John12345\n",
            "Logged in Successfully\n"
          ]
        }
      ]
    }
  ]
}